{
  "nbformat": 4,
  "nbformat_minor": 0,
  "metadata": {
    "colab": {
      "provenance": []
    },
    "kernelspec": {
      "name": "python3",
      "display_name": "Python 3"
    },
    "language_info": {
      "name": "python"
    }
  },
  "cells": [
    {
      "cell_type": "markdown",
      "source": [
        "#Procedure\n",
        "\n",
        "Uses recursive steps to solve the problem under the 'solveTOH' method, taking user inputs by assigning an object to instantiate the method with the parameters defined."
      ],
      "metadata": {
        "id": "ZjMsthF5XUlx"
      }
    },
    {
      "cell_type": "code",
      "source": [
        "def solveTOH(n, source, auxiliary, target):                 #n is the number of disks.\n",
        "  if n == 0:                                                #Base case if there are no disks.\n",
        "    print(\"Enter any non-zero integer!\")\n",
        "  elif n == 1:                                              #Base case if there is only one disk, placing\n",
        "    print(f\"Place disk 1 from {source} to {target}\")        #it on the destination peg.\n",
        "  else:\n",
        "    solveTOH(n-1, source, target, auxiliary)                #Move n-1 disk from source to auxiliary.\n",
        "    print(f\"Place disk {n} from {source} to {target}\")\n",
        "    solveTOH(n-1, auxiliary, source, target)                #Move n-1 disk from auxiliary to target.\n",
        "\n",
        "solve = int(input(\"Enter Number of Disks: \"))               #Object to instantiate class with user input.\n",
        "solveTOH(solve, 'Peg1(A)', 'Peg2(B)', 'Peg3(C)')"
      ],
      "metadata": {
        "colab": {
          "base_uri": "https://localhost:8080/"
        },
        "id": "MSUbHKwOU-2n",
        "outputId": "6e6ef9f2-a43e-4671-bf2b-09730af6831c"
      },
      "execution_count": null,
      "outputs": [
        {
          "output_type": "stream",
          "name": "stdout",
          "text": [
            "Enter Number of Disks: 3\n",
            "Place disk 1 from Peg1(A) to Peg3(C)\n",
            "Place disk 2 from Peg1(A) to Peg2(B)\n",
            "Place disk 1 from Peg3(C) to Peg2(B)\n",
            "Place disk 3 from Peg1(A) to Peg3(C)\n",
            "Place disk 1 from Peg2(B) to Peg1(A)\n",
            "Place disk 2 from Peg2(B) to Peg3(C)\n",
            "Place disk 1 from Peg1(A) to Peg3(C)\n"
          ]
        }
      ]
    },
    {
      "cell_type": "markdown",
      "source": [
        "#Supplementary Activity\n",
        "\n",
        "With the use of dynamic programming, memoization is also implemented to solve the problem with the recursive function 'solveTOH' wherein similar to the Procedure, 'n' is the number of disks with the other parameters as source, auxiliary, and target as pegs, with the 'memo' to store results of memoization.\n",
        "\n",
        "With 'n-1' as the main recursive step, the recursion follows as the topmost block that is transferred to the destination peg, with the next being the secondmost towards the auxiliary peg, and then finally transferring the blocks towards the destination peg which then completes the problem."
      ],
      "metadata": {
        "id": "UdX2csU1amht"
      }
    },
    {
      "cell_type": "code",
      "source": [
        "def solveTOH(n, source, auxiliary, target, memo):\n",
        "    if n == 0:\n",
        "        return []\n",
        "    elif n == 1:\n",
        "        return [(1, source, target)] #Places the only disk from the source to target peg.\n",
        "\n",
        "    elif (n, source, auxiliary, target) not in memo: #For all disks not in the memo yet, makes the recursion.\n",
        "        memo[(n, source, auxiliary, target)] = (solveTOH(n-1, source, target, auxiliary, memo)  #Imbues memoization in recursion. Move n-1 disk from source to auxiliary.\n",
        "        + [(n, source, target)]\n",
        "        + solveTOH(n-1, auxiliary, source, target, memo)) #Move n-1 disk from auxiliary to target.\n",
        "    return memo[(n, source, auxiliary, target)]\n",
        "\n",
        "def main():\n",
        "    n = int(input(\"Enter the number of disks: \")) #n is the number of disks.\n",
        "    if n == 0:  #Base case if there are no disks, prints afterward.\n",
        "      print(\"Enter a non-zero positive integer!\")\n",
        "    elif n <= 0: #Base case if input is less than or equal to zero, prints afterward.\n",
        "      print(\"Enter a positive, non-zero integer!\")\n",
        "\n",
        "    memo = {} #Memoization dictionary to store values.\n",
        "    moves = solveTOH(n, 'Peg1(A)', 'Peg2(B)', 'Peg3(C)', memo)\n",
        "\n",
        "    for disk, source, target in moves: #Assign 'disk', 'source', 'target' in moves from memo.\n",
        "      print(f\"Move disk {disk} from {source} to {target}\")\n",
        "\n",
        "if __name__ == \"__main__\":\n",
        "    main()"
      ],
      "metadata": {
        "colab": {
          "base_uri": "https://localhost:8080/"
        },
        "id": "qZG_gXfGhPEq",
        "outputId": "e24a5987-ffaa-4efd-99e5-25db43960b30"
      },
      "execution_count": 9,
      "outputs": [
        {
          "output_type": "stream",
          "name": "stdout",
          "text": [
            "Enter the number of disks: 3\n",
            "Move disk 1 from Peg1(A) to Peg3(C)\n",
            "Move disk 2 from Peg1(A) to Peg2(B)\n",
            "Move disk 1 from Peg3(C) to Peg2(B)\n",
            "Move disk 3 from Peg1(A) to Peg3(C)\n",
            "Move disk 1 from Peg2(B) to Peg1(A)\n",
            "Move disk 2 from Peg2(B) to Peg3(C)\n",
            "Move disk 1 from Peg1(A) to Peg3(C)\n"
          ]
        }
      ]
    }
  ]
}