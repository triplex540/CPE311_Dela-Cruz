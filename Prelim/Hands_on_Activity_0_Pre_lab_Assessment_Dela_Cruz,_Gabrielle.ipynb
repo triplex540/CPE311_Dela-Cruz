{
  "nbformat": 4,
  "nbformat_minor": 0,
  "metadata": {
    "colab": {
      "provenance": []
    },
    "kernelspec": {
      "name": "python3",
      "display_name": "Python 3"
    },
    "language_info": {
      "name": "python"
    }
  },
  "cells": [
    {
      "cell_type": "code",
      "execution_count": null,
      "metadata": {
        "colab": {
          "base_uri": "https://localhost:8080/"
        },
        "id": "gV5zGwwYgJgH",
        "outputId": "2d167526-bd25-4c91-927f-7ac6df309714"
      },
      "outputs": [
        {
          "output_type": "stream",
          "name": "stdout",
          "text": [
            "C <=> P <=> E <=> "
          ]
        }
      ],
      "source": [
        "# Doubly Linked Lists\n",
        "class Node:\n",
        "    def __init__(self, newData):\n",
        "        self.newData = newData\n",
        "        self.previous = None\n",
        "        self.next = None\n",
        "\n",
        "def linkedList(head):\n",
        "    pointer = head\n",
        "    while pointer:\n",
        "        print(pointer.newData, end = \" <=> \")\n",
        "        pointer = pointer.next\n",
        "\n",
        "def add(head, newData):\n",
        "    newNode = Node(newData)\n",
        "    newNode.next = head\n",
        "    if head:\n",
        "        head.prev = newNode\n",
        "    return newNode\n",
        "\n",
        "head = None\n",
        "head = add(head, 'E')\n",
        "head = add(head, 'P')\n",
        "head = add(head, 'C')\n",
        "\n",
        "linkedList(head)"
      ]
    }
  ]
}