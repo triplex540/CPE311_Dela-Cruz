{
  "nbformat": 4,
  "nbformat_minor": 0,
  "metadata": {
    "colab": {
      "provenance": []
    },
    "kernelspec": {
      "name": "python3",
      "display_name": "Python 3"
    },
    "language_info": {
      "name": "python"
    }
  },
  "cells": [
    {
      "cell_type": "markdown",
      "source": [
        "#Greedy Algorithm\n",
        "Assume that you have an objective function that needs to be optimized (either maximized or minimized) at a given point. A Greedy algorithm makes greedy choices at each step to ensure that the objective function is optimized. The Greedy algorithm has only one shot to compute the optimal solution so that it never goes back and reverses the decision.\n",
        "\n",
        "##When to Use Greedy Algorithms\n",
        "Greedy Algorithms can help you find solutions to a lot of seemingly tough problems. The only problem with them is that you might come up with the correct solution but you might not be able to verify if its the correct one. All the greedy problems share a common property that a local optima can eventually lead to a global minima without reconsidering the set of choices already considered.\n",
        "\n",
        "###Sample Problems:\n",
        "1. Lecture Scheduling Problem\n",
        "2. Student Enrollment Problem"
      ],
      "metadata": {
        "id": "n0iTchcu2twI"
      }
    },
    {
      "cell_type": "markdown",
      "source": [
        "#Brute Force Algorithm\n",
        "Brute Force Algorithms are exactly what they sound like – straightforward methods of solving a problem that rely on sheer computing power and trying every possibility rather than advanced techniques to improve efficiency. For example, imagine you have a small padlock with 4 digits, each from 0-9.\n",
        "\n",
        "###Sample Problems:\n",
        "- Solve the same given problems using Brute Force algorithm."
      ],
      "metadata": {
        "id": "Ex0cdeur3s5_"
      }
    },
    {
      "cell_type": "markdown",
      "source": [
        "#Dynamic Programming\n",
        "Dynamic Programming(DP) is an algorithmic technique for solving an optimization problem by breaking it down into simpler subproblems and utilizing the fact that the optimal solution to the overall problem depends upon the optimal solution to the subproblems."
      ],
      "metadata": {
        "id": "tAdnaN3y27iH"
      }
    },
    {
      "cell_type": "markdown",
      "source": [
        "###Top-Down Approach with Memoization\n",
        "Whenever we solve a subproblem, we cache its result so that we don’t end up solving it repeatedly if it’s called multiple times. This technique of storing the results of the previously solved subproblems is called Memoization.\n",
        "\n",
        "In memoization, we solve the bigger problem by recursively finding the solution to the subproblems. It is a top-down approach."
      ],
      "metadata": {
        "id": "NyDGniz3LZjk"
      }
    },
    {
      "cell_type": "code",
      "source": [
        "#Implementation of Fibonacci Series using Memoization\n",
        "\"\"\" The Fibonacci Series is a series of numbers in which each number\n",
        "    is the sum of the preceding two numbers.\n",
        "    By definition, the first two numbers are 0 and 1.\n",
        "\n",
        "    Implement with the following steps:\n",
        "    - Declare function with parameters: Number N and Dictionary Memo.\n",
        "    - If n equals 1, return 0\n",
        "    - If n equals 2, return 1\n",
        "    - If current element is not in memo, add to memoy by recursive call for previous function and add. \"\"\"\n",
        "\n",
        "fbnci_cache = {}\n",
        "def fbnci_tpdwn(n):\n",
        "  global fbnci_cache\n",
        "  if n == 1:\n",
        "    return 0\n",
        "  if n == 2:\n",
        "    return 1\n",
        "  if not n in fbnci_cache:\n",
        "    fbnci_cache[n] = fbnci_tpdwn(n-1) + fbnci_tpdwn(n-2)\n",
        "  return fbnci_cache[n]\n",
        "\n",
        "fbnci_tpdwn(6)\n",
        "for i in fbnci_cache.values():\n",
        "  print(i)"
      ],
      "metadata": {
        "id": "8_TsrouUJQSF",
        "colab": {
          "base_uri": "https://localhost:8080/"
        },
        "outputId": "3a8647e4-d7a5-4851-8dba-c90135820ccb"
      },
      "execution_count": null,
      "outputs": [
        {
          "output_type": "stream",
          "name": "stdout",
          "text": [
            "1\n",
            "2\n",
            "3\n",
            "5\n"
          ]
        }
      ]
    },
    {
      "cell_type": "code",
      "source": [
        "#Implementation of Factorial of a number N using Memoization\n",
        "ftrl_cache = {}\n",
        "def ftrl_tpdwn(n):\n",
        "  global ftrl_cache\n",
        "  if (n == 0 or n == 1):\n",
        "    return 1\n",
        "  if n in ftrl_cache:\n",
        "    return ftrl_cache[n]\n",
        "  compute = ftrl_tpdwn(n-1) * n\n",
        "  ftrl_cache[n] = compute\n",
        "  return compute\n",
        "print(ftrl_tpdwn(5))"
      ],
      "metadata": {
        "colab": {
          "base_uri": "https://localhost:8080/"
        },
        "id": "ZzWklqLw5jlw",
        "outputId": "13fa1445-cae6-429f-c5e2-011247391f34"
      },
      "execution_count": null,
      "outputs": [
        {
          "output_type": "stream",
          "name": "stdout",
          "text": [
            "120\n"
          ]
        }
      ]
    },
    {
      "cell_type": "markdown",
      "source": [
        "###Bottom-Up Approach with Tabulation\n",
        "Tabulation is the opposite of the top-down approach and does not involve recursion. In this approach, we solve the problem “bottom-up”. This means that the subproblems are solved first and are then combined to form the solution to the original problem.\n",
        "\n",
        "This is achieved by filling up a table. Based on the results of the table, the solution to the original problem is computed."
      ],
      "metadata": {
        "id": "NrcB-ztP9ZPI"
      }
    },
    {
      "cell_type": "code",
      "source": [
        "#Implementation of Fibonacci Series using Tabulation\n",
        "\"\"\" Fibonacci Series can be implemented using Tabulation using the following steps:\n",
        "    - Declare the function and take the number whose Fibonacci Series is to be printed.\n",
        "    - Initialize the list and input the values 0 and 1 in it.\n",
        "    - Iterate over the range of 2 to n+1.\n",
        "    - Append the list with the sum of the previous two values of the list.\n",
        "    - Return the list as output. \"\"\"\n",
        "\n",
        "def fbnci_tabulation(n):\n",
        "    fbnci_list = [0,1]\n",
        "    for i in range (2,n+1):\n",
        "        fbnci_list.append(fbnci_list[i-1] + fbnci_list[i-2])\n",
        "    return fbnci_list\n",
        "\n",
        "# n is the number of terms in which the Fibonacci Sequence will be operated.\n",
        "n = 12\n",
        "print(f\"A Fibonacci Sequence with up to {n} terms is equal to: {fbnci_tabulation(n)}\")"
      ],
      "metadata": {
        "id": "Skjbt78O9ele",
        "colab": {
          "base_uri": "https://localhost:8080/"
        },
        "outputId": "76577a89-6c54-4463-f63e-f0df46d37e6a"
      },
      "execution_count": null,
      "outputs": [
        {
          "output_type": "stream",
          "name": "stdout",
          "text": [
            "A Fibonacci Sequence with up to 12 terms is equal to: [0, 1, 1, 2, 3, 5, 8, 13, 21, 34, 55, 89, 144]\n"
          ]
        }
      ]
    },
    {
      "cell_type": "code",
      "source": [
        "#Implementation of Factorial of a number N using Tabulation\n",
        "def ftrl_btmp(n):\n",
        "  ftrl_list = [1,1]\n",
        "  for i in range(2, n+1):\n",
        "    ftrl_list.append(i * ftrl_list[-1])\n",
        "  return ftrl_list[n]\n",
        "\n",
        "# n is the number in which the Factorial will be operated.\n",
        "n = 12\n",
        "print(f\"The factorial of {n} is equal to {ftrl_btmp(n)}\")"
      ],
      "metadata": {
        "colab": {
          "base_uri": "https://localhost:8080/"
        },
        "id": "zF2M-dNY-Hos",
        "outputId": "8d28f304-3b43-4dd2-b47f-1314c7ff953a"
      },
      "execution_count": null,
      "outputs": [
        {
          "output_type": "stream",
          "name": "stdout",
          "text": [
            "The factorial of 12 is equal to 479001600\n"
          ]
        }
      ]
    },
    {
      "cell_type": "code",
      "source": [
        "#Student Enrollment Problem\n",
        "\"\"\" You are given a set of N courses.\n",
        "    Courses will be defined as (code, units).\n",
        "    Select the maximum set of courses a student can hve.\n",
        "    Maximum units allowed is based on input with a max of 24\n",
        "    default of 18. \"\"\"\n",
        "\n",
        "#Using a modified version of the Lecture Scheduling Problem code below\n",
        "class Lecture(object):\n",
        "    def __init__(self, c, u, s, d):\n",
        "        self.courseCode = c\n",
        "        self.units = u\n",
        "        self.startTime = s\n",
        "        self.duration = d\n",
        "\n",
        "    def getUnits(self):\n",
        "        return self.units\n",
        "\n",
        "    def getDuration(self):\n",
        "        return self.duration\n",
        "\n",
        "    def getStart(self):\n",
        "        return self.startTime\n",
        "\n",
        "    def density(self):\n",
        "        return self.getUnits() / self.getDuration()\n",
        "\n",
        "    def __str__(self):\n",
        "        return self.courseCode + ': <' + str(self.units) + ', ' + str(self.startTime) + ', ' + str(self.duration) + '>'\n",
        "\n",
        "def buildSched(codes, units, start, duration):\n",
        "    schedule = []\n",
        "    for i in range(len(start)):\n",
        "        schedule.append(Lecture(codes[i], units[i], start[i], duration[i]))\n",
        "    return schedule\n",
        "\n",
        "def greedy(classes, maxUnits, keyFunction):\n",
        "    classesCopy = sorted(classes, key=keyFunction, reverse=True)\n",
        "    result = []\n",
        "\n",
        "    totalUnits = 0\n",
        "    for i in range(len(classes)):\n",
        "        if (totalUnits + classesCopy[i].getUnits()) <= maxUnits:\n",
        "            result.append(classesCopy[i])\n",
        "            totalUnits += classesCopy[i].getUnits()\n",
        "    return (result, totalUnits)\n",
        "\n",
        "def testGreedy(classes, maxUnits, keyFunction):\n",
        "    taken, val = greedy(classes, maxUnits, keyFunction)\n",
        "    print('Total units of classes taken = ', val)\n",
        "    for item in taken:\n",
        "        print(' ', item)\n",
        "\n",
        "def testGreedys(ClassCodes, maxUnits):\n",
        "    print('Use greedy by value to allocate', maxUnits, 'units')\n",
        "    testGreedy(ClassCodes, maxUnits, Lecture.getUnits)\n",
        "    print('\\nUse greedy by cost to allocate', maxUnits, 'units')\n",
        "    testGreedy(ClassCodes, maxUnits, Lecture.getDuration)\n",
        "    print('\\nUse greedy by density to allocate', maxUnits, 'units')\n",
        "    testGreedy(ClassCodes, maxUnits, Lecture.density)\n",
        "\n",
        "courseCode = ['CPE001', 'CPE002', 'CPE003', 'CPE004', 'CPE005']\n",
        "units = [3, 2, 4, 3, 3]\n",
        "startTime = [9, 10, 11, 13, 14]\n",
        "duration = [1, 2, 1, 2, 1]\n",
        "enrolledUnits = buildSched(courseCode, units, startTime, duration) #Added object to make use of the method 'buildSched'\n",
        "\n",
        "# With the Default Units of 18:\n",
        "print(\"Enrollment with default course load units (18):\")\n",
        "testGreedys(enrolledUnits, 18)\n",
        "\n",
        "# With Maximum Allowable Units of 24:\n",
        "print(\"\\nEnrollment with maximum course load units (24):\")\n",
        "testGreedys(enrolledUnits, 24)"
      ],
      "metadata": {
        "id": "wK951cvf87l2",
        "colab": {
          "base_uri": "https://localhost:8080/"
        },
        "outputId": "48e8ba24-87bd-423a-c28c-10116379f94f"
      },
      "execution_count": null,
      "outputs": [
        {
          "output_type": "stream",
          "name": "stdout",
          "text": [
            "Enrollment with default course load units (18):\n",
            "Use greedy by value to allocate 18 units\n",
            "Total units of classes taken =  15\n",
            "  CPE003: <4, 11, 1>\n",
            "  CPE001: <3, 9, 1>\n",
            "  CPE004: <3, 13, 2>\n",
            "  CPE005: <3, 14, 1>\n",
            "  CPE002: <2, 10, 2>\n",
            "\n",
            "Use greedy by cost to allocate 18 units\n",
            "Total units of classes taken =  15\n",
            "  CPE002: <2, 10, 2>\n",
            "  CPE004: <3, 13, 2>\n",
            "  CPE001: <3, 9, 1>\n",
            "  CPE003: <4, 11, 1>\n",
            "  CPE005: <3, 14, 1>\n",
            "\n",
            "Use greedy by density to allocate 18 units\n",
            "Total units of classes taken =  15\n",
            "  CPE003: <4, 11, 1>\n",
            "  CPE001: <3, 9, 1>\n",
            "  CPE005: <3, 14, 1>\n",
            "  CPE004: <3, 13, 2>\n",
            "  CPE002: <2, 10, 2>\n",
            "\n",
            "Enrollment with maximum course load units (24):\n",
            "Use greedy by value to allocate 24 units\n",
            "Total units of classes taken =  15\n",
            "  CPE003: <4, 11, 1>\n",
            "  CPE001: <3, 9, 1>\n",
            "  CPE004: <3, 13, 2>\n",
            "  CPE005: <3, 14, 1>\n",
            "  CPE002: <2, 10, 2>\n",
            "\n",
            "Use greedy by cost to allocate 24 units\n",
            "Total units of classes taken =  15\n",
            "  CPE002: <2, 10, 2>\n",
            "  CPE004: <3, 13, 2>\n",
            "  CPE001: <3, 9, 1>\n",
            "  CPE003: <4, 11, 1>\n",
            "  CPE005: <3, 14, 1>\n",
            "\n",
            "Use greedy by density to allocate 24 units\n",
            "Total units of classes taken =  15\n",
            "  CPE003: <4, 11, 1>\n",
            "  CPE001: <3, 9, 1>\n",
            "  CPE005: <3, 14, 1>\n",
            "  CPE004: <3, 13, 2>\n",
            "  CPE002: <2, 10, 2>\n"
          ]
        }
      ]
    },
    {
      "cell_type": "markdown",
      "source": [
        "#Answers"
      ],
      "metadata": {
        "id": "crF2HdqCN64W"
      }
    },
    {
      "cell_type": "code",
      "source": [
        "#Lecture Scheduling Problem\n",
        "\"\"\" You are given a set of N schedules.\n",
        "    Schedule will be defined with: course code, units, start, duration.\n",
        "    Select the maximum set of lectures to be held.\n",
        "    No schedules must overlap. \"\"\"\n",
        "\n",
        "class Lecture(object):\n",
        "  def __init__(self, c, u, s, d):\n",
        "    self.courseCode = c\n",
        "    self.units = u\n",
        "    self.startTime = s\n",
        "    self.duration = d\n",
        "\n",
        "  def getUnits(self):\n",
        "    return self.units\n",
        "\n",
        "  def getDuration(self):\n",
        "    return self.duration\n",
        "\n",
        "  def getStart(self):\n",
        "    return self.startTime\n",
        "\n",
        "  def density(self):\n",
        "    return self.getUnits()/self.getDuration()\n",
        "\n",
        "  def __str__(self):\n",
        "    return self.courseCode + ': <' + str(self.units) + ', ' + str(self.startTime) + ', ' + str(self.duration) + '>'\n",
        "\n",
        "def buildSched(codes, units, start, duration):\n",
        "  schedule = []\n",
        "  for i in range(len(start)):\n",
        "    schedule.append(Lecture(codes[i], units[i], start[i], duration[i]))\n",
        "  return schedule\n",
        "\n",
        "def greedy(classes, maxHours, keyFunction):\n",
        "  classesCopy = sorted(classes, key = keyFunction, reverse = False)\n",
        "  result = []\n",
        "\n",
        "  totalUnits, totalHours = 0.0, 0.0\n",
        "  for i in range(len(classes)):\n",
        "    if(totalHours + classesCopy[i].getDuration()) <= maxHours:\n",
        "      result.append(classesCopy[i])\n",
        "      totalHours += classesCopy[i].getDuration()\n",
        "      totalUnits += classesCopy[i].getUnits()\n",
        "  return (result, totalUnits)\n",
        "\n",
        "def testGreedy(classes, constraint, keyFunction):\n",
        "  taken, val = greedy(classes, constraint, keyFunction)\n",
        "  print('Total units of classes taken = ', val)\n",
        "  for item in taken:\n",
        "    print(' ', item)\n",
        "\n",
        "def testGreedys(ClassCodes, maxHours):\n",
        "    print('Use greedy by value to allocate', maxHours,          'units')\n",
        "    testGreedy(ClassCodes, maxHours, Lecture.getUnits)\n",
        "    print('\\nUse greedy by cost to allocate', maxHours,          'units')\n",
        "    testGreedy(ClassCodes, maxHours, Lecture.getDuration)\n",
        "    print('\\nUse greedy by density to allocate', maxHours,          'units')\n",
        "    testGreedy(ClassCodes, maxHours, Lecture.density)\n",
        "\n",
        "courseCode = ['CPE001', 'CPE002', 'CPE003']\n",
        "units = [2, 3, 4]\n",
        "startTime = [9, 2, 3]\n",
        "Duration = [2, 2, 3]\n",
        "enrolledClasses = buildSched(courseCode, units, startTime, Duration)\n",
        "testGreedys(enrolledClasses, 5)"
      ],
      "metadata": {
        "id": "h5wXf7I_3PKR",
        "colab": {
          "base_uri": "https://localhost:8080/"
        },
        "outputId": "819109f0-ac67-4814-e612-bdee3da8e2af"
      },
      "execution_count": null,
      "outputs": [
        {
          "output_type": "stream",
          "name": "stdout",
          "text": [
            "Use greedy by value to allocate 5 units\n",
            "Total units of classes taken =  5.0\n",
            "  CPE001: <2, 9, 2>\n",
            "  CPE002: <3, 2, 2>\n",
            "\n",
            "Use greedy by cost to allocate 5 units\n",
            "Total units of classes taken =  5.0\n",
            "  CPE001: <2, 9, 2>\n",
            "  CPE002: <3, 2, 2>\n",
            "\n",
            "Use greedy by density to allocate 5 units\n",
            "Total units of classes taken =  6.0\n",
            "  CPE001: <2, 9, 2>\n",
            "  CPE003: <4, 3, 3>\n"
          ]
        }
      ]
    },
    {
      "cell_type": "code",
      "source": [
        "# Function to implement Fibonacci Series\n",
        "def fibMemo(n, memo):\n",
        "    if n == 1:\n",
        "        return 0\n",
        "    if n == 2:\n",
        "        return 1\n",
        "    if not n in memo:\n",
        "        memo[n] = fibMemo(n-1, memo) + fibMemo(n-2, memo)\n",
        "    return memo[n]\n",
        "\n",
        "tempDict = {}\n",
        "fibMemo(6, tempDict)\n",
        "\n",
        "#Printing the elements of the Fibonacci Series\n",
        "print(\"0\")\n",
        "print(\"1\")\n",
        "for element in tempDict.values():\n",
        "    print(element)"
      ],
      "metadata": {
        "id": "F_ag3nClZsL9"
      },
      "execution_count": null,
      "outputs": []
    },
    {
      "cell_type": "code",
      "source": [
        "# Function to implement Fibonacci Series\n",
        "def fibTab(n):\n",
        "    tb = [0, 1]\n",
        "    for i in range(2, n+1):\n",
        "      tb.append(tb[i-1] + tb[i-2])\n",
        "    return tb\n",
        "\n",
        "print(fibTab(6))"
      ],
      "metadata": {
        "id": "RJkOBPmrZv2W"
      },
      "execution_count": null,
      "outputs": []
    }
  ]
}