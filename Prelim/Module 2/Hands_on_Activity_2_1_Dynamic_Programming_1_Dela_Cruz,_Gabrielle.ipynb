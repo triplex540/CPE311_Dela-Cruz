{
  "cells": [
    {
      "cell_type": "markdown",
      "id": "f1c6ec95",
      "metadata": {
        "id": "f1c6ec95"
      },
      "source": [
        "# Hands-on Activity 2.1 : Dynamic Programming"
      ]
    },
    {
      "cell_type": "markdown",
      "id": "56dacba1",
      "metadata": {
        "id": "56dacba1"
      },
      "source": [
        "#### Objective(s):\n",
        "\n",
        "This activity aims to demonstrate how to use dynamic programming to solve problems."
      ]
    },
    {
      "cell_type": "markdown",
      "id": "e51f84e3",
      "metadata": {
        "id": "e51f84e3"
      },
      "source": [
        "#### Intended Learning Outcomes (ILOs):\n",
        "* Differentiate recursion method from dynamic programming to solve problems.\n",
        "* Demonstrate how to  solve real-world problems using dynamic programming\n"
      ]
    },
    {
      "cell_type": "markdown",
      "id": "39047b1a",
      "metadata": {
        "id": "39047b1a"
      },
      "source": [
        "#### Resources:\n",
        "* Jupyter Notebook\n"
      ]
    },
    {
      "cell_type": "markdown",
      "id": "f7a5bfbd",
      "metadata": {
        "id": "f7a5bfbd"
      },
      "source": [
        "0/1 Knapsack Problem\n",
        "\n",
        "* Analyze three different techniques to solve knapsacks problem\n",
        "1. Recursion\n",
        "2. Dynamic Programming\n",
        "3. Memoization"
      ]
    },
    {
      "cell_type": "code",
      "execution_count": null,
      "id": "15SVHF85_1Ji",
      "metadata": {
        "id": "15SVHF85_1Ji",
        "colab": {
          "base_uri": "https://localhost:8080/"
        },
        "outputId": "45863aab-5c74-4011-9652-027acd1d0ef7"
      },
      "outputs": [
        {
          "output_type": "execute_result",
          "data": {
            "text/plain": [
              "220"
            ]
          },
          "metadata": {},
          "execution_count": 6
        }
      ],
      "source": [
        "def rec_knapSack(w, wt, val, n):\n",
        "\n",
        "  #base case\n",
        "  #defined as nth item is empty;\n",
        "  #or the capacity w is 0\n",
        "  if n == 0 or w == 0:\n",
        "    return 0\n",
        "\n",
        "  #if weight of the nth item is more than\n",
        "  #the capacity W, then this item cannot be included\n",
        "  #as part of the optimal solution\n",
        "  if(wt[n-1] > w):\n",
        "    return rec_knapSack(w, wt, val, n-1)\n",
        "\n",
        "  #return the maximum of the two cases:\n",
        "  # (1) include the nth item\n",
        "  # (2) don't include the nth item\n",
        "  else:\n",
        "    return max(\n",
        "        val[n-1] + rec_knapSack(\n",
        "            w-wt[n-1], wt, val, n-1),\n",
        "            rec_knapSack(w, wt, val, n-1)\n",
        "    )\n",
        "\n",
        "#To test:\n",
        "val = [60, 100, 120] #values for the items\n",
        "wt = [10, 20, 30] #weight of the items\n",
        "w = 50 #knapsack weight capacity\n",
        "n = len(val) #number of items\n",
        "\n",
        "rec_knapSack(w, wt, val, n)"
      ]
    },
    {
      "cell_type": "code",
      "execution_count": null,
      "id": "A8OU1sUJ_1ES",
      "metadata": {
        "id": "A8OU1sUJ_1ES"
      },
      "outputs": [],
      "source": [
        "#Dynamic Programming for the Knapsack Problem\n",
        "def DP_knapSack(w, wt, val, n):\n",
        "  #create the table\n",
        "  table = [[0 for x in range(w+1)] for x in range (n+1)]\n",
        "\n",
        "  #populate the table in a bottom-up approach\n",
        "  for i in range(n+1):\n",
        "    for w in range(w+1):\n",
        "      if i == 0 or w == 0:\n",
        "        table[i][w] = 0\n",
        "      elif wt[i-1] <= w:\n",
        "        table[i][w] = max(val[i-1] + table[i-1][w-wt[i-1]],\n",
        "                          table[i-1][w])\n",
        "  return table[n][w]"
      ]
    },
    {
      "cell_type": "code",
      "execution_count": null,
      "id": "GUNeEPHrd-N1",
      "metadata": {
        "colab": {
          "base_uri": "https://localhost:8080/"
        },
        "id": "GUNeEPHrd-N1",
        "outputId": "4829e602-248b-48f8-cbd3-e75c4d87d3b6"
      },
      "outputs": [
        {
          "data": {
            "text/plain": [
              "220"
            ]
          },
          "execution_count": 29,
          "metadata": {},
          "output_type": "execute_result"
        }
      ],
      "source": [
        "#To test:\n",
        "val = [60, 100, 120]\n",
        "wt = [10, 20, 30]\n",
        "w = 50\n",
        "n = len(val)\n",
        "\n",
        "DP_knapSack(w, wt, val, n)"
      ]
    },
    {
      "cell_type": "code",
      "execution_count": null,
      "id": "VgwTX-XT_0_h",
      "metadata": {
        "colab": {
          "base_uri": "https://localhost:8080/"
        },
        "id": "VgwTX-XT_0_h",
        "outputId": "6f3c2cc6-01fc-433a-ae1e-cbb99976c028"
      },
      "outputs": [
        {
          "data": {
            "text/plain": [
              "220"
            ]
          },
          "execution_count": 31,
          "metadata": {},
          "output_type": "execute_result"
        }
      ],
      "source": [
        "#Sample for top-down DP approach (memoization)\n",
        "#initialize the list of items\n",
        "val = [60, 100, 120]\n",
        "wt = [10, 20, 30]\n",
        "w = 50\n",
        "n = len(val)\n",
        "\n",
        "#initialize the container for the values that have to be stored\n",
        "#values are initialized to -1\n",
        "calc =[[-1 for i in range(w+1)] for j in range(n+1)]\n",
        "\n",
        "\n",
        "def mem_knapSack(wt, val, w, n):\n",
        "  #base conditions\n",
        "  if n == 0 or w == 0:\n",
        "    return 0\n",
        "  if calc[n][w] != -1:\n",
        "    return calc[n][w]\n",
        "\n",
        "  #compute for the other cases\n",
        "  if wt[n-1] <= w:\n",
        "    calc[n][w] = max(val[n-1] + mem_knapSack(wt, val, w-wt[n-1], n-1),\n",
        "                     mem_knapSack(wt, val, w, n-1))\n",
        "    return calc[n][w]\n",
        "  elif wt[n-1] > w:\n",
        "    calc[n][w] = mem_knapSack(wt, val, w, n-1)\n",
        "    return calc[n][w]\n",
        "\n",
        "mem_knapSack(wt, val, w, n)"
      ]
    },
    {
      "cell_type": "markdown",
      "id": "-UXSSblDcF8T",
      "metadata": {
        "id": "-UXSSblDcF8T"
      },
      "source": [
        "**Code Analysis**\n",
        "\n",
        "<p align=\"justify\">For the code that implements that knapsack problem without Dynamic Programming, the 'rec_Knapsack' takes the weight capacity, the weight and values of items, and the number of items as parameters. The base case of recursion has a conditional statement, as well as including and excluding items. <p align=\"justify\">\n",
        "\n",
        "<p align=\"justify\">For the solution with the dynamic programming implementation, it has the same parameters wherein a table filled with the nested loop from the latter part of the code. Both are tested with sample values at the end, with the Dynamic Programming implementation using a Bottom-Up Approach.<p align=\"justify\">\n",
        "\n",
        "<p align=\"justify\">For the Top-Down Approach, 'calc' is introduced as a table with memoization implementation following conditional statements and a memoization check later.<p align=\"justify\">"
      ]
    },
    {
      "cell_type": "markdown",
      "id": "IGsdUGCUcTFd",
      "metadata": {
        "id": "IGsdUGCUcTFd"
      },
      "source": [
        "## Seatwork 2.1"
      ]
    },
    {
      "cell_type": "markdown",
      "id": "0462053d",
      "metadata": {
        "id": "0462053d"
      },
      "source": [
        "Task 1: Modify the three techniques to include additional criterion in the knapsack problems"
      ]
    },
    {
      "cell_type": "code",
      "execution_count": null,
      "id": "ed2f6186",
      "metadata": {
        "id": "ed2f6186",
        "colab": {
          "base_uri": "https://localhost:8080/"
        },
        "outputId": "ab8a7148-1ad5-4372-9807-ad590a422b25"
      },
      "outputs": [
        {
          "output_type": "stream",
          "name": "stdout",
          "text": [
            "11.0\n"
          ]
        }
      ],
      "source": [
        "def rec_knapSack(w, wt, val, d, n):  # d is the additional criterion for the problem, density of items.\n",
        "  # Everything remains the same but with the additional criterion implememented.\n",
        "  if n == 0 or w == 0:\n",
        "    return 0\n",
        "\n",
        "  if(wt[n-1] > w):\n",
        "    return rec_knapSack(w, wt, val, d, n-1)\n",
        "\n",
        "  else:\n",
        "    return max(d[n-1] + rec_knapSack(w-wt[n-1], wt, val, d, n-1), rec_knapSack(w, wt, val, d, n-1))\n",
        "\n",
        "val = [60, 100, 120]\n",
        "wt = [10, 20, 30]\n",
        "w = 50\n",
        "d = [] # d as the density criterion for the objects involved in the knapsack.\n",
        "n = len(val)\n",
        "\n",
        "for i in range(len(wt)):\n",
        "  d.append(val[i]/wt[i])\n",
        "\n",
        "print(rec_knapSack(w, wt, val, d, n))"
      ]
    },
    {
      "cell_type": "markdown",
      "id": "f44e88aa",
      "metadata": {
        "id": "f44e88aa"
      },
      "source": [
        "Task 2: Create a sample program that find the nth number of Fibonacci Series using Dynamic Programming"
      ]
    },
    {
      "cell_type": "code",
      "execution_count": null,
      "id": "745871be",
      "metadata": {
        "id": "745871be",
        "colab": {
          "base_uri": "https://localhost:8080/"
        },
        "outputId": "d6c8ea2c-eead-4d22-fc69-5b0b9bf39568"
      },
      "outputs": [
        {
          "output_type": "stream",
          "name": "stdout",
          "text": [
            "In the Fibonacci Sequence, the value of term 12 is equal to 144\n"
          ]
        }
      ],
      "source": [
        "def fbnci(n):\n",
        "    # Conditional base cases\n",
        "    if n <= 0:\n",
        "        return 0\n",
        "    elif n == 1:\n",
        "        return 1\n",
        "\n",
        "    fbnci_array = [0] * (n + 1)\n",
        "    fbnci_array[0] = 0\n",
        "    fbnci_array[1] = 1\n",
        "\n",
        "    # Implementing a bottom-up approach\n",
        "    for i in range(2, n + 1):\n",
        "        fbnci_array[i] = fbnci_array[i - 1] + fbnci_array[i - 2]\n",
        "    return fbnci_array[n]\n",
        "\n",
        "# n is the sequential number in the Fibonacci Series that will be determined.\n",
        "n = 12\n",
        "print(f\"In the Fibonacci Sequence, the value of term {n} is equal to {fbnci(12)}\")"
      ]
    },
    {
      "cell_type": "markdown",
      "id": "070ddd75",
      "metadata": {
        "id": "070ddd75"
      },
      "source": [
        "## Supplementary Problem (HOA 2.1 Submission):\n",
        "* Choose a real-life problem\n",
        "* Use recursion and dynamic programming to solve the problem"
      ]
    },
    {
      "cell_type": "markdown",
      "source": [
        "**The Chosen Problem:**\n",
        "<p align=\"justify\">An electrician wants to provide more utility in the house by adding more appliances designed to improve living conditions. When purchasing electronics, he wants to maximize the operating efficiency with the most number of utility appliances -- considering future savings by their energy rating units, along with the selling price.<p align=\"justify\">"
      ],
      "metadata": {
        "id": "h9f9mS56Totw"
      },
      "id": "h9f9mS56Totw"
    },
    {
      "cell_type": "code",
      "execution_count": null,
      "id": "86eef507",
      "metadata": {
        "id": "86eef507",
        "colab": {
          "base_uri": "https://localhost:8080/"
        },
        "outputId": "43896fa1-ff0c-47ab-8f2f-430abfcfc48b"
      },
      "outputs": [
        {
          "output_type": "stream",
          "name": "stdout",
          "text": [
            "Use Greedy Algorithm for the max energy unit savings of 80\n",
            "Total price of items taken = 9640.0\n",
            "-> Heater: (Base Price: 3150, Energy Rating: 7.5Wh)\n",
            "-> Computer: (Base Price: 2750, Energy Rating: 7.5Wh)\n",
            "-> Airconditioner: (Base Price: 2200, Energy Rating: 9Wh)\n",
            "-> Phone: (Base Price: 750, Energy Rating: 10Wh)\n",
            "-> Television: (Base Price: 325, Energy Rating: 4.5Wh)\n",
            "-> Microwave: (Base Price: 245, Energy Rating: 6Wh)\n",
            "-> Electric Fan: (Base Price: 160, Energy Rating: 9.5Wh)\n",
            "-> Refrigerator: (Base Price: 60, Energy Rating: 8Wh)\n",
            "\n",
            "Use Greedy Algorithm for the max energy unit savings of 80\n",
            "Total price of items taken = 9640.0\n",
            "-> Television: (Base Price: 325, Energy Rating: 4.5Wh)\n",
            "-> Microwave: (Base Price: 245, Energy Rating: 6Wh)\n",
            "-> Computer: (Base Price: 2750, Energy Rating: 7.5Wh)\n",
            "-> Heater: (Base Price: 3150, Energy Rating: 7.5Wh)\n",
            "-> Refrigerator: (Base Price: 60, Energy Rating: 8Wh)\n",
            "-> Airconditioner: (Base Price: 2200, Energy Rating: 9Wh)\n",
            "-> Electric Fan: (Base Price: 160, Energy Rating: 9.5Wh)\n",
            "-> Phone: (Base Price: 750, Energy Rating: 10Wh)\n",
            "\n",
            "Use Greedy Algorithm for the max energy unit savings of 80\n",
            "Total price of items taken = 9640.0\n",
            "-> Heater: (Base Price: 3150, Energy Rating: 7.5Wh)\n",
            "-> Computer: (Base Price: 2750, Energy Rating: 7.5Wh)\n",
            "-> Airconditioner: (Base Price: 2200, Energy Rating: 9Wh)\n",
            "-> Phone: (Base Price: 750, Energy Rating: 10Wh)\n",
            "-> Television: (Base Price: 325, Energy Rating: 4.5Wh)\n",
            "-> Microwave: (Base Price: 245, Energy Rating: 6Wh)\n",
            "-> Electric Fan: (Base Price: 160, Energy Rating: 9.5Wh)\n",
            "-> Refrigerator: (Base Price: 60, Energy Rating: 8Wh)\n",
            "\n",
            "Using Dynamic Programming for the energy unit savings of 60\n",
            "Total cost of all gadgets = 9580\n",
            "-> Electric Fan: (Base Price: 160, Energy Rating: 9.5Wh)\n",
            "-> Microwave: (Base Price: 245, Energy Rating: 6Wh)\n",
            "-> Airconditioner: (Base Price: 2200, Energy Rating: 9Wh)\n",
            "-> Heater: (Base Price: 3150, Energy Rating: 7.5Wh)\n",
            "-> Television: (Base Price: 325, Energy Rating: 4.5Wh)\n",
            "-> Computer: (Base Price: 2750, Energy Rating: 7.5Wh)\n",
            "-> Phone: (Base Price: 750, Energy Rating: 10Wh)\n"
          ]
        }
      ],
      "source": [
        "#Programming Solution with both Dynamic Programming and Recursion Implementation\n",
        "class Gadgets:\n",
        "    def __init__(self, n, p, b):\n",
        "        self.name = n\n",
        "        self.price = p\n",
        "        self.budget = b\n",
        "\n",
        "    def getPrice(self):\n",
        "        return self.price\n",
        "\n",
        "    def getBudget(self):\n",
        "        return self.budget\n",
        "\n",
        "    def Savings(self):\n",
        "        return self.getPrice() / self.getBudget()\n",
        "\n",
        "    def __str__(self):\n",
        "        return self.name + ': (Base Price: ' + str(self.price) + ', Energy Rating: ' + str(self.budget) + 'Wh)'\n",
        "\n",
        "def Checklist(names, price, budget):\n",
        "    menu = []\n",
        "    for i in range(len(price)):\n",
        "        menu.append(Gadgets(names[i], price[i], budget[i]))\n",
        "    return menu\n",
        "\n",
        "def greedy(items, maxCost, keyFunction):\n",
        "    itemsCopy = sorted(items, key=keyFunction, reverse=True)\n",
        "    result = []\n",
        "    totalValue, totalCost = 0.0, 0.0\n",
        "    for i in range(len(itemsCopy)):\n",
        "        if (totalCost + itemsCopy[i].getBudget()) <= maxCost:\n",
        "            result.append(itemsCopy[i])\n",
        "            totalCost += itemsCopy[i].getBudget()\n",
        "            totalValue += itemsCopy[i].getPrice()\n",
        "    return (result, totalValue)\n",
        "\n",
        "def testGreedy(items, constraint, keyFunction):\n",
        "    taken, val = greedy(items, constraint, keyFunction)\n",
        "    print('Total price of items taken =', val)\n",
        "    for item in taken:\n",
        "        print('->', item)\n",
        "\n",
        "def testGreedys(gadget, maxUnits):\n",
        "    print('Use Greedy Algorithm for the max energy unit savings of', maxUnits)\n",
        "    testGreedy(gadget, maxUnits, Gadgets.getPrice)\n",
        "    print('\\nUse Greedy Algorithm for the max energy unit savings of', maxUnits)\n",
        "    testGreedy(gadget, maxUnits, lambda x: 1 / x.getBudget())\n",
        "    print('\\nUse Greedy Algorithm for the max energy unit savings of', maxUnits)\n",
        "    testGreedy(gadget, maxUnits, Gadgets.Savings)\n",
        "\n",
        "def maxValMemo(toConsider, avail, memo=None): #Implements Memoization into the code, stores computed values, and\n",
        "    if memo is None:                          #replaces the brute force implementation. Computes maximum value in\n",
        "        memo = {}                             #loop given the constraints, using memo dictionary in this line\n",
        "    if (len(toConsider), avail) in memo:\n",
        "        return memo[(len(toConsider), avail)]\n",
        "    if toConsider == [] or avail == 0:\n",
        "        result = (0, ())\n",
        "    elif toConsider[0].getBudget() > avail:\n",
        "        result = maxValMemo(toConsider[1:], avail, memo)\n",
        "    else:\n",
        "        nextItem = toConsider[0]\n",
        "        withVal, withToTake = maxValMemo(toConsider[1:], avail - nextItem.getBudget(), memo)\n",
        "        withVal += nextItem.getPrice()\n",
        "        withoutVal, withoutToTake = maxValMemo(toConsider[1:], avail, memo)\n",
        "        if withVal > withoutVal:\n",
        "            result = (withVal, withToTake + (nextItem,))\n",
        "        else:\n",
        "            result = (withoutVal, withoutToTake)\n",
        "    memo[(len(toConsider), avail)] = result\n",
        "    return result\n",
        "\n",
        "def testMaxVal(gadget, maxUnits, printItems=True):\n",
        "    print('\\nUsing Dynamic Programming for the energy unit savings of', maxUnits)\n",
        "    val, taken = maxValMemo(gadget, maxUnits)\n",
        "    print('Total cost of all gadgets =', val)\n",
        "    if printItems:\n",
        "        for item in taken:\n",
        "            print('->', item)\n",
        "\n",
        "names = ['Phone', 'Computer', 'Television', 'Heater', 'Airconditioner', 'Refrigerator', 'Microwave', 'Electric Fan']\n",
        "price = [7500, 27500, 3250, 31500, 22000, 600, 2450, 1600]\n",
        "budget = [10, 7.5, 4.5, 7.5, 9, 8, 6, 9.5]\n",
        "gadgetlist = Checklist(names, price, budget)\n",
        "\n",
        "testGreedys(gadgetlist, 40)  # Testing with Greedy Algorithm of 40 energy units (Wh)\n",
        "testMaxVal(gadgetlist, 20)   # Testing with Dynamic Programming of 20 energy units (Wh)"
      ]
    },
    {
      "cell_type": "markdown",
      "id": "bb0ed6a9",
      "metadata": {
        "id": "bb0ed6a9"
      },
      "source": [
        "#### Conclusion"
      ]
    },
    {
      "cell_type": "markdown",
      "source": [
        "<p align=\"justify\">In looking for solutions toward real-life problems, the implementation of Dynamic Programming, techniques and approaches, as well as the use of various data structures greatly help in the efficiency and operation in the intended purpose of the code.<p align=\"justify\">"
      ],
      "metadata": {
        "id": "CCED1hIVWk5J"
      },
      "id": "CCED1hIVWk5J"
    }
  ],
  "metadata": {
    "colab": {
      "provenance": []
    },
    "kernelspec": {
      "display_name": "Python 3",
      "language": "python",
      "name": "python3"
    },
    "language_info": {
      "codemirror_mode": {
        "name": "ipython",
        "version": 3
      },
      "file_extension": ".py",
      "mimetype": "text/x-python",
      "name": "python",
      "nbconvert_exporter": "python",
      "pygments_lexer": "ipython3",
      "version": "3.10.11"
    }
  },
  "nbformat": 4,
  "nbformat_minor": 5
}