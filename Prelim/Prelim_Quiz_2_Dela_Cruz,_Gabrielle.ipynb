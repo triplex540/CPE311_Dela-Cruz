{
  "nbformat": 4,
  "nbformat_minor": 0,
  "metadata": {
    "colab": {
      "provenance": []
    },
    "kernelspec": {
      "name": "python3",
      "display_name": "Python 3"
    },
    "language_info": {
      "name": "python"
    }
  },
  "cells": [
    {
      "cell_type": "code",
      "execution_count": 12,
      "metadata": {
        "colab": {
          "base_uri": "https://localhost:8080/"
        },
        "id": "Ibfj4xmSHH_9",
        "outputId": "75bc1d2e-4ae1-48e2-82c2-481b94ff8a02"
      },
      "outputs": [
        {
          "output_type": "execute_result",
          "data": {
            "text/plain": [
              "[]"
            ]
          },
          "metadata": {},
          "execution_count": 12
        }
      ],
      "source": [
        "#Problem 1 - Maximum Value Contiguous Subsequence\n",
        "def MaximumValue(arr, n):\n",
        "  arrval= [];\n",
        "  if n == 1:\n",
        "    return arr[0];\n",
        "  else:\n",
        "    for i in arr:\n",
        "      if(i+1)>n:\n",
        "          break;\n",
        "      if (arr[i]>arr[i+1]):\n",
        "        arrval.append(arr[i]);\n",
        "  return arrval;\n",
        "\n",
        "arr = [1,3,5,7,9,11,13,15,17];\n",
        "n = 2;\n",
        "MaximumValue(arr,n)"
      ]
    }
  ]
}